{
 "cells": [
  {
   "cell_type": "markdown",
   "id": "e0efff28-11b3-41c5-aea6-033184f91b15",
   "metadata": {},
   "source": [
    "# FICO challenge\n",
    "\n",
    "Took 20 minutes to write this (with ~6 years relevant experience)\n",
    "\n",
    "ML code is 2 lines"
   ]
  },
  {
   "cell_type": "code",
   "execution_count": 1,
   "id": "8bc1a213-85a2-4b2f-ae3e-95dd54e823ea",
   "metadata": {},
   "outputs": [],
   "source": [
    "import pandas as pd\n",
    "import numpy as np\n",
    "import sklearn as sk"
   ]
  },
  {
   "cell_type": "code",
   "execution_count": 2,
   "id": "a74b3ac2-f5d0-4393-9505-ec666fac15bb",
   "metadata": {},
   "outputs": [
    {
     "data": {
      "text/plain": [
       "('1.3.5', '1.22.1', '1.0.2')"
      ]
     },
     "execution_count": 2,
     "metadata": {},
     "output_type": "execute_result"
    }
   ],
   "source": [
    "pd.__version__, np.__version__, sk.__version__"
   ]
  },
  {
   "cell_type": "code",
   "execution_count": 3,
   "id": "4c7bb9ac-2f42-4497-af42-96c11e824ef0",
   "metadata": {},
   "outputs": [
    {
     "data": {
      "text/plain": [
       "(10459, 24)"
      ]
     },
     "execution_count": 3,
     "metadata": {},
     "output_type": "execute_result"
    }
   ],
   "source": [
    "p = \"heloc_dataset_v1.csv\"\n",
    "data = pd.read_csv(p)\n",
    "\n",
    "data.shape"
   ]
  },
  {
   "cell_type": "markdown",
   "id": "9d195c22-6ce6-41d7-be87-231335bcdd17",
   "metadata": {},
   "source": [
    "# Data"
   ]
  },
  {
   "cell_type": "code",
   "execution_count": 4,
   "id": "901ce1c7-7faa-491a-99ef-cb835bdbbdc7",
   "metadata": {},
   "outputs": [
    {
     "data": {
      "text/html": [
       "<div>\n",
       "<style scoped>\n",
       "    .dataframe tbody tr th:only-of-type {\n",
       "        vertical-align: middle;\n",
       "    }\n",
       "\n",
       "    .dataframe tbody tr th {\n",
       "        vertical-align: top;\n",
       "    }\n",
       "\n",
       "    .dataframe thead th {\n",
       "        text-align: right;\n",
       "    }\n",
       "</style>\n",
       "<table border=\"1\" class=\"dataframe\">\n",
       "  <thead>\n",
       "    <tr style=\"text-align: right;\">\n",
       "      <th></th>\n",
       "      <th>RiskPerformance</th>\n",
       "      <th>ExternalRiskEstimate</th>\n",
       "      <th>MSinceOldestTradeOpen</th>\n",
       "      <th>MSinceMostRecentTradeOpen</th>\n",
       "      <th>AverageMInFile</th>\n",
       "      <th>NumSatisfactoryTrades</th>\n",
       "      <th>NumTrades60Ever2DerogPubRec</th>\n",
       "      <th>NumTrades90Ever2DerogPubRec</th>\n",
       "      <th>PercentTradesNeverDelq</th>\n",
       "      <th>MSinceMostRecentDelq</th>\n",
       "      <th>...</th>\n",
       "      <th>PercentInstallTrades</th>\n",
       "      <th>MSinceMostRecentInqexcl7days</th>\n",
       "      <th>NumInqLast6M</th>\n",
       "      <th>NumInqLast6Mexcl7days</th>\n",
       "      <th>NetFractionRevolvingBurden</th>\n",
       "      <th>NetFractionInstallBurden</th>\n",
       "      <th>NumRevolvingTradesWBalance</th>\n",
       "      <th>NumInstallTradesWBalance</th>\n",
       "      <th>NumBank2NatlTradesWHighUtilization</th>\n",
       "      <th>PercentTradesWBalance</th>\n",
       "    </tr>\n",
       "  </thead>\n",
       "  <tbody>\n",
       "    <tr>\n",
       "      <th>0</th>\n",
       "      <td>Bad</td>\n",
       "      <td>55</td>\n",
       "      <td>144</td>\n",
       "      <td>4</td>\n",
       "      <td>84</td>\n",
       "      <td>20</td>\n",
       "      <td>3</td>\n",
       "      <td>0</td>\n",
       "      <td>83</td>\n",
       "      <td>2</td>\n",
       "      <td>...</td>\n",
       "      <td>43</td>\n",
       "      <td>0</td>\n",
       "      <td>0</td>\n",
       "      <td>0</td>\n",
       "      <td>33</td>\n",
       "      <td>-8</td>\n",
       "      <td>8</td>\n",
       "      <td>1</td>\n",
       "      <td>1</td>\n",
       "      <td>69</td>\n",
       "    </tr>\n",
       "    <tr>\n",
       "      <th>1</th>\n",
       "      <td>Bad</td>\n",
       "      <td>61</td>\n",
       "      <td>58</td>\n",
       "      <td>15</td>\n",
       "      <td>41</td>\n",
       "      <td>2</td>\n",
       "      <td>4</td>\n",
       "      <td>4</td>\n",
       "      <td>100</td>\n",
       "      <td>-7</td>\n",
       "      <td>...</td>\n",
       "      <td>67</td>\n",
       "      <td>0</td>\n",
       "      <td>0</td>\n",
       "      <td>0</td>\n",
       "      <td>0</td>\n",
       "      <td>-8</td>\n",
       "      <td>0</td>\n",
       "      <td>-8</td>\n",
       "      <td>-8</td>\n",
       "      <td>0</td>\n",
       "    </tr>\n",
       "    <tr>\n",
       "      <th>2</th>\n",
       "      <td>Bad</td>\n",
       "      <td>67</td>\n",
       "      <td>66</td>\n",
       "      <td>5</td>\n",
       "      <td>24</td>\n",
       "      <td>9</td>\n",
       "      <td>0</td>\n",
       "      <td>0</td>\n",
       "      <td>100</td>\n",
       "      <td>-7</td>\n",
       "      <td>...</td>\n",
       "      <td>44</td>\n",
       "      <td>0</td>\n",
       "      <td>4</td>\n",
       "      <td>4</td>\n",
       "      <td>53</td>\n",
       "      <td>66</td>\n",
       "      <td>4</td>\n",
       "      <td>2</td>\n",
       "      <td>1</td>\n",
       "      <td>86</td>\n",
       "    </tr>\n",
       "    <tr>\n",
       "      <th>3</th>\n",
       "      <td>Bad</td>\n",
       "      <td>66</td>\n",
       "      <td>169</td>\n",
       "      <td>1</td>\n",
       "      <td>73</td>\n",
       "      <td>28</td>\n",
       "      <td>1</td>\n",
       "      <td>1</td>\n",
       "      <td>93</td>\n",
       "      <td>76</td>\n",
       "      <td>...</td>\n",
       "      <td>57</td>\n",
       "      <td>0</td>\n",
       "      <td>5</td>\n",
       "      <td>4</td>\n",
       "      <td>72</td>\n",
       "      <td>83</td>\n",
       "      <td>6</td>\n",
       "      <td>4</td>\n",
       "      <td>3</td>\n",
       "      <td>91</td>\n",
       "    </tr>\n",
       "    <tr>\n",
       "      <th>4</th>\n",
       "      <td>Bad</td>\n",
       "      <td>81</td>\n",
       "      <td>333</td>\n",
       "      <td>27</td>\n",
       "      <td>132</td>\n",
       "      <td>12</td>\n",
       "      <td>0</td>\n",
       "      <td>0</td>\n",
       "      <td>100</td>\n",
       "      <td>-7</td>\n",
       "      <td>...</td>\n",
       "      <td>25</td>\n",
       "      <td>0</td>\n",
       "      <td>1</td>\n",
       "      <td>1</td>\n",
       "      <td>51</td>\n",
       "      <td>89</td>\n",
       "      <td>3</td>\n",
       "      <td>1</td>\n",
       "      <td>0</td>\n",
       "      <td>80</td>\n",
       "    </tr>\n",
       "  </tbody>\n",
       "</table>\n",
       "<p>5 rows × 24 columns</p>\n",
       "</div>"
      ],
      "text/plain": [
       "  RiskPerformance  ExternalRiskEstimate  MSinceOldestTradeOpen  \\\n",
       "0             Bad                    55                    144   \n",
       "1             Bad                    61                     58   \n",
       "2             Bad                    67                     66   \n",
       "3             Bad                    66                    169   \n",
       "4             Bad                    81                    333   \n",
       "\n",
       "   MSinceMostRecentTradeOpen  AverageMInFile  NumSatisfactoryTrades  \\\n",
       "0                          4              84                     20   \n",
       "1                         15              41                      2   \n",
       "2                          5              24                      9   \n",
       "3                          1              73                     28   \n",
       "4                         27             132                     12   \n",
       "\n",
       "   NumTrades60Ever2DerogPubRec  NumTrades90Ever2DerogPubRec  \\\n",
       "0                            3                            0   \n",
       "1                            4                            4   \n",
       "2                            0                            0   \n",
       "3                            1                            1   \n",
       "4                            0                            0   \n",
       "\n",
       "   PercentTradesNeverDelq  MSinceMostRecentDelq  ...  PercentInstallTrades  \\\n",
       "0                      83                     2  ...                    43   \n",
       "1                     100                    -7  ...                    67   \n",
       "2                     100                    -7  ...                    44   \n",
       "3                      93                    76  ...                    57   \n",
       "4                     100                    -7  ...                    25   \n",
       "\n",
       "   MSinceMostRecentInqexcl7days  NumInqLast6M  NumInqLast6Mexcl7days  \\\n",
       "0                             0             0                      0   \n",
       "1                             0             0                      0   \n",
       "2                             0             4                      4   \n",
       "3                             0             5                      4   \n",
       "4                             0             1                      1   \n",
       "\n",
       "   NetFractionRevolvingBurden  NetFractionInstallBurden  \\\n",
       "0                          33                        -8   \n",
       "1                           0                        -8   \n",
       "2                          53                        66   \n",
       "3                          72                        83   \n",
       "4                          51                        89   \n",
       "\n",
       "   NumRevolvingTradesWBalance  NumInstallTradesWBalance  \\\n",
       "0                           8                         1   \n",
       "1                           0                        -8   \n",
       "2                           4                         2   \n",
       "3                           6                         4   \n",
       "4                           3                         1   \n",
       "\n",
       "   NumBank2NatlTradesWHighUtilization  PercentTradesWBalance  \n",
       "0                                   1                     69  \n",
       "1                                  -8                      0  \n",
       "2                                   1                     86  \n",
       "3                                   3                     91  \n",
       "4                                   0                     80  \n",
       "\n",
       "[5 rows x 24 columns]"
      ]
     },
     "execution_count": 4,
     "metadata": {},
     "output_type": "execute_result"
    }
   ],
   "source": [
    "data.head()"
   ]
  },
  {
   "cell_type": "code",
   "execution_count": 5,
   "id": "faf11332-2137-41d2-882b-3c0e34a382c4",
   "metadata": {},
   "outputs": [
    {
     "data": {
      "text/plain": [
       "Bad     5459\n",
       "Good    5000\n",
       "Name: RiskPerformance, dtype: int64"
      ]
     },
     "execution_count": 5,
     "metadata": {},
     "output_type": "execute_result"
    }
   ],
   "source": [
    "y_var = 'RiskPerformance'\n",
    "data[y_var].value_counts()"
   ]
  },
  {
   "cell_type": "code",
   "execution_count": 6,
   "id": "b5af65de-2fde-4003-ab5e-4784e2f757db",
   "metadata": {},
   "outputs": [
    {
     "data": {
      "text/plain": [
       "((10459, 23), (10459,))"
      ]
     },
     "execution_count": 6,
     "metadata": {},
     "output_type": "execute_result"
    }
   ],
   "source": [
    "X = data.drop(y_var, axis=1)\n",
    "y = data[y_var]\n",
    "\n",
    "X.shape, y.shape"
   ]
  },
  {
   "cell_type": "markdown",
   "id": "6c0b6512-f138-4e3b-be61-1e6279c684d9",
   "metadata": {},
   "source": [
    "# Train"
   ]
  },
  {
   "cell_type": "code",
   "execution_count": 7,
   "id": "97458758-50a1-41c1-8407-8c6803e58ad1",
   "metadata": {},
   "outputs": [],
   "source": [
    "from sklearn.linear_model import LogisticRegressionCV\n",
    "from sklearn.ensemble import RandomForestClassifier\n",
    "from sklearn.model_selection import cross_validate\n",
    "from sklearn.preprocessing import LabelEncoder"
   ]
  },
  {
   "cell_type": "code",
   "execution_count": 8,
   "id": "1395e64d-0b14-4db6-a4b6-78c795748cfe",
   "metadata": {},
   "outputs": [
    {
     "data": {
      "text/plain": [
       "((10459,), 0.4780571756382063)"
      ]
     },
     "execution_count": 8,
     "metadata": {},
     "output_type": "execute_result"
    }
   ],
   "source": [
    "le = LabelEncoder()\n",
    "y = le.fit_transform(y)\n",
    "\n",
    "# 1 = \"Good\", 0 = \"Bad\"\n",
    "y.shape, np.mean(y)"
   ]
  },
  {
   "cell_type": "code",
   "execution_count": 9,
   "id": "73221458-a64c-4612-9407-c4b51a64c040",
   "metadata": {},
   "outputs": [],
   "source": [
    "# C.R. likes 10-fold CV\n",
    "outer_cv = 10\n",
    "inner_cv = 5\n",
    "\n",
    "random_state = 99\n",
    "n_jobs = 8\n",
    "verbose = 1\n",
    "\n",
    "scoring = ['accuracy', 'roc_auc']"
   ]
  },
  {
   "cell_type": "code",
   "execution_count": 10,
   "id": "6efccf18-c2c9-48f3-8471-693d33d3024d",
   "metadata": {},
   "outputs": [
    {
     "name": "stderr",
     "output_type": "stream",
     "text": [
      "[Parallel(n_jobs=8)]: Using backend LokyBackend with 8 concurrent workers.\n",
      "[Parallel(n_jobs=8)]: Done   6 out of  10 | elapsed:   18.3s remaining:   12.2s\n",
      "[Parallel(n_jobs=8)]: Done  10 out of  10 | elapsed:   24.7s finished\n"
     ]
    }
   ],
   "source": [
    "# saw convergence errors, so increased iters this until they disappeared\n",
    "max_iter = 2000\n",
    "\n",
    "# the greatest single line of ML code, ever\n",
    "lrcv = LogisticRegressionCV(cv=inner_cv, max_iter=max_iter, random_state=random_state)\n",
    "\n",
    "results = cross_validate(lrcv, X, y, cv=outer_cv, scoring=scoring, n_jobs=n_jobs,\n",
    "                         return_estimator=True, verbose=verbose)"
   ]
  },
  {
   "cell_type": "markdown",
   "id": "27f02917-c2eb-40fa-bf8b-eeaa92a20237",
   "metadata": {},
   "source": [
    "# Evaluate\n",
    "\n",
    "Get mean, std dev, and # of scores, for each of 2 performance metrics"
   ]
  },
  {
   "cell_type": "code",
   "execution_count": 11,
   "id": "34b2f6b7-322c-4b92-8510-473097fed260",
   "metadata": {},
   "outputs": [
    {
     "data": {
      "text/plain": [
       "(0.6988261502008105, 0.045977352285483775, 10)"
      ]
     },
     "execution_count": 11,
     "metadata": {},
     "output_type": "execute_result"
    }
   ],
   "source": [
    "scores = results['test_accuracy']\n",
    "np.mean(scores), np.std(scores), len(scores)"
   ]
  },
  {
   "cell_type": "code",
   "execution_count": 12,
   "id": "3c00da4c-2bab-46b5-9c4e-0259779046c9",
   "metadata": {},
   "outputs": [
    {
     "data": {
      "text/plain": [
       "(0.772223649897503, 0.03907796255018936, 10)"
      ]
     },
     "execution_count": 12,
     "metadata": {},
     "output_type": "execute_result"
    }
   ],
   "source": [
    "scores = results['test_roc_auc']\n",
    "np.mean(scores), np.std(scores), len(scores)"
   ]
  },
  {
   "cell_type": "markdown",
   "id": "2e8d5d8b-a527-4d8a-aba0-05d5e1de661a",
   "metadata": {},
   "source": [
    "# Explain\n",
    "\n",
    "Plot average (std) of coefficients"
   ]
  },
  {
   "cell_type": "code",
   "execution_count": 13,
   "id": "21b28367-ddf5-4d07-91f4-7fbd03f90dbb",
   "metadata": {},
   "outputs": [],
   "source": [
    "import matplotlib.pyplot as plt\n",
    "import seaborn as sns"
   ]
  },
  {
   "cell_type": "code",
   "execution_count": 14,
   "id": "e5da3b9e-b5c3-43af-91ca-4af88dfd3582",
   "metadata": {},
   "outputs": [],
   "source": [
    "%matplotlib inline"
   ]
  },
  {
   "cell_type": "code",
   "execution_count": 15,
   "id": "7db41d51-2bfc-4f30-a877-01768afe532c",
   "metadata": {},
   "outputs": [],
   "source": [
    "# collect coefs from 10 (outer cv) models\n",
    "dfs = [] \n",
    "\n",
    "for est in results['estimator']:\n",
    "    df = pd.DataFrame({'coef': est.coef_.flatten(), 'column': X.columns})\n",
    "    dfs.append(df)"
   ]
  },
  {
   "cell_type": "code",
   "execution_count": 16,
   "id": "bc136294-326d-43c5-92f8-506d007b4e7d",
   "metadata": {},
   "outputs": [],
   "source": [
    "coefs_df = pd.concat(dfs)"
   ]
  },
  {
   "cell_type": "code",
   "execution_count": 17,
   "id": "6398601e-59c1-4dc5-93d9-8f9bae17d0e8",
   "metadata": {},
   "outputs": [
    {
     "data": {
      "image/png": "[encoded data removed]",
      "text/plain": [
       "<Figure size 864x720 with 1 Axes>"
      ]
     },
     "metadata": {
      "needs_background": "light"
     },
     "output_type": "display_data"
    }
   ],
   "source": [
    "plt.figure(figsize=(12, 10))\n",
    "\n",
    "# plots means (std) of coefs from 10-fold (outer) cv\n",
    "sns.barplot(data=coefs_df, x='coef', y='column', estimator=np.mean, ci='sd');"
   ]
  }
 ],
 "metadata": {
  "kernelspec": {
   "display_name": "Python 3 (ipykernel)",
   "language": "python",
   "name": "python3"
  },
  "language_info": {
   "codemirror_mode": {
    "name": "ipython",
    "version": 3
   },
   "file_extension": ".py",
   "mimetype": "text/x-python",
   "name": "python",
   "nbconvert_exporter": "python",
   "pygments_lexer": "ipython3",
   "version": "3.8.9"
  }
 },
 "nbformat": 4,
 "nbformat_minor": 5
}
